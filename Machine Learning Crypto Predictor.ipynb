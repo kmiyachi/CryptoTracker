{
 "cells": [
  {
   "cell_type": "code",
   "execution_count": 1,
   "metadata": {},
   "outputs": [
    {
     "name": "stderr",
     "output_type": "stream",
     "text": [
      "Using TensorFlow backend.\n"
     ]
    },
    {
     "data": {
      "text/html": [
       "<script>requirejs.config({paths: { 'plotly': ['https://cdn.plot.ly/plotly-latest.min']},});if(!window.Plotly) {{require(['plotly'],function(plotly) {window.Plotly=plotly;});}}</script>"
      ],
      "text/vnd.plotly.v1+html": [
       "<script>requirejs.config({paths: { 'plotly': ['https://cdn.plot.ly/plotly-latest.min']},});if(!window.Plotly) {{require(['plotly'],function(plotly) {window.Plotly=plotly;});}}</script>"
      ]
     },
     "metadata": {},
     "output_type": "display_data"
    }
   ],
   "source": [
    "import keras\n",
    "import tensorflow\n",
    "import math\n",
    "import requests\n",
    "import datetime\n",
    "import pandas as pd\n",
    "import numpy as np\n",
    "import matplotlib.pyplot as plt\n",
    "import plotly.offline as py\n",
    "import plotly.graph_objs as go\n",
    "import plotly.figure_factory as ff\n",
    "py.init_notebook_mode(connected=True)\n",
    "\n",
    "from pandas import DataFrame\n",
    "from pandas import Series\n",
    "from pandas import concat\n",
    "from pandas import read_csv\n",
    "#from pandas import datetime\n",
    "from sklearn.metrics import mean_squared_error\n",
    "from sklearn.preprocessing import MinMaxScaler\n",
    "from sklearn.preprocessing import StandardScaler\n",
    "from keras.models import Sequential\n",
    "from keras.layers import Dense\n",
    "from keras.layers import LSTM\n",
    "from math import sqrt\n",
    "import matplotlib\n",
    "\n",
    "from coinmarketcap import Market\n",
    "import json\n",
    "import time\n",
    "\n",
    "from bittrex.bittrex import Bittrex, API_V2_0\n",
    "\n",
    "\n",
    "import pickle\n",
    "import quandl"
   ]
  },
  {
   "cell_type": "code",
   "execution_count": 16,
   "metadata": {
    "code_folding": [
     0,
     9,
     17,
     38
    ],
    "collapsed": true
   },
   "outputs": [],
   "source": [
    "def timeseries_to_supervised(data, lag=1):\n",
    "    df = DataFrame(data)\n",
    "    columns = [df.shift(i) for i in range(1, lag+1)]\n",
    "    columns.append(df)\n",
    "    df = concat(columns, axis=1)\n",
    "    df = df.drop(0)\n",
    "    return df\n",
    "\n",
    "# create a differenced series\n",
    "def difference(dataset, interval=1):\n",
    "\tdiff = list()\n",
    "\tfor i in range(interval, len(dataset)):\n",
    "\t\tvalue = dataset[i] - dataset[i - interval]\n",
    "\t\tdiff.append(value)\n",
    "\treturn Series(diff)\n",
    " \n",
    "# scale train and test data to [-1, 1]\n",
    "def scale(train, test):\n",
    "\t# fit scaler\n",
    "\tscaler = MinMaxScaler(feature_range=(-1, 1))\n",
    "\tscaler = scaler.fit(train)\n",
    "\t# transform train\n",
    "\ttrain = train.reshape(train.shape[0], train.shape[1])\n",
    "\ttrain_scaled = scaler.transform(train)\n",
    "\t# transform test\n",
    "\ttest = test.reshape(test.shape[0], test.shape[1])\n",
    "\ttest_scaled = scaler.transform(test)\n",
    "\treturn scaler, train_scaled, test_scaled\n",
    " \n",
    "# inverse scaling for a forecasted value\n",
    "def invert_scale(scaler, X, yhat):\n",
    "\tnew_row = [x for x in X] + [yhat]\n",
    "\tarray = np.array(new_row)\n",
    "\tarray = array.reshape(1, len(array))\n",
    "\tinverted = scaler.inverse_transform(array)\n",
    "\treturn inverted[0, -1]\n",
    " \n",
    "# evaluate the model on a dataset, returns RMSE in transformed units\n",
    "def evaluate(model, raw_data, scaled_dataset, scaler, offset, batch_size):\n",
    "\t# separate\n",
    "\tX, y = scaled_dataset[:,0:-1], scaled_dataset[:,-1]\n",
    "\t# reshape\n",
    "\treshaped = X.reshape(len(X), 1, 1)\n",
    "\t# forecast dataset\n",
    "\toutput = model.predict(reshaped, batch_size=batch_size)\n",
    "\t# invert data transforms on forecast\n",
    "\tpredictions = list()\n",
    "\tfor i in range(len(output)):\n",
    "\t\tyhat = output[i,0]\n",
    "\t\t# invert scaling\n",
    "\t\tyhat = invert_scale(scaler, X[i], yhat)\n",
    "\t\t# invert differencing\n",
    "\t\tyhat = yhat + raw_data[i]\n",
    "\t\t# store forecast\n",
    "\t\tpredictions.append(yhat)\n",
    "\t# report performance\n",
    "\trmse = sqrt(mean_squared_error(raw_data[1:], predictions))\n",
    "\treturn rmse\n",
    " \n",
    "# fit an LSTM network to training data\n",
    "def fit_lstm(train, test, raw, scaler, batch_size, nb_epoch, neurons):\n",
    "\tX, y = train[:, 0:-1], train[:, -1]\n",
    "\tX = X.reshape(X.shape[0], 1, X.shape[1])\n",
    "\t# prepare model\n",
    "\tmodel = Sequential()\n",
    "\tmodel.add(LSTM(neurons, batch_input_shape=(batch_size, X.shape[1], X.shape[2]), stateful=True))\n",
    "\tmodel.add(Dense(1))\n",
    "\tmodel.compile(loss='mean_squared_error', optimizer='adam')\n",
    "\t# fit model\n",
    "\ttrain_rmse, test_rmse = list(), list()\n",
    "\tfor i in range(nb_epoch):\n",
    "\t\tmodel.fit(X, y, epochs=1, batch_size=batch_size, verbose=0, shuffle=False)\n",
    "\t\tmodel.reset_states()\n",
    "\t\t# evaluate model on train data\n",
    "\t\traw_train = raw[-(len(train)+len(test)+1):-len(test)]\n",
    "\t\ttrain_rmse.append(evaluate(model, raw_train, train, scaler, 0, batch_size))\n",
    "\t\tmodel.reset_states()\n",
    "\t\t# evaluate model on test data\n",
    "\t\traw_test = raw[-(len(test)+1):]\n",
    "\t\ttest_rmse.append(evaluate(model, raw_test, test, scaler, 0, batch_size))\n",
    "\t\tmodel.reset_states()\n",
    "\thistory = DataFrame()\n",
    "\thistory['train'], history['test'] = train_rmse, test_rmse\n",
    "\treturn history"
   ]
  },
  {
   "cell_type": "code",
   "execution_count": 17,
   "metadata": {
    "collapsed": true
   },
   "outputs": [],
   "source": [
    "def price(symbol, comparison_symbols=['USD'], exchange=''):\n",
    "    url = 'https://min-api.cryptocompare.com/data/price?fsym={}&tsyms={}'\\\n",
    "            .format(symbol.upper(), ','.join(comparison_symbols).upper())\n",
    "    if exchange:\n",
    "        url += '&e={}'.format(exchange)\n",
    "    page = requests.get(url)\n",
    "    data = page.json()\n",
    "    return data\n",
    "\n",
    "def daily_price_historical(symbol, comparison_symbol, all_data=True, limit=1, aggregate=1, exchange=''):\n",
    "    url = 'https://min-api.cryptocompare.com/data/histoday?fsym={}&tsym={}&limit={}&aggregate={}'\\\n",
    "            .format(symbol.upper(), comparison_symbol.upper(), limit, aggregate)\n",
    "    if exchange:\n",
    "        url += '&e={}'.format(exchange)\n",
    "    if all_data:\n",
    "        url += '&allData=true'\n",
    "    page = requests.get(url)\n",
    "    data = page.json()['Data']\n",
    "    df = pd.DataFrame(data)\n",
    "    df['timestamp'] = [datetime.datetime.fromtimestamp(d) for d in df.time]\n",
    "    return df"
   ]
  },
  {
   "cell_type": "code",
   "execution_count": 22,
   "metadata": {},
   "outputs": [
    {
     "data": {
      "text/plain": [
       "array([[-1.        , -0.99994288],\n",
       "       [-0.99994128, -0.99995103],\n",
       "       [-0.99994943, -0.99996082],\n",
       "       ..., \n",
       "       [-0.57174887, -0.57903902],\n",
       "       [-0.57903776, -0.58453397],\n",
       "       [-0.58453271, -0.58451781]])"
      ]
     },
     "execution_count": 22,
     "metadata": {},
     "output_type": "execute_result"
    }
   ],
   "source": [
    "df = daily_price_historical('BTC', 'USD')\n",
    "#plt.plot(df.timestamp, df.close)\n",
    "#plt.xticks(rotation=45)\n",
    "#plt.show()\n",
    "ml_df = df[['close','high','low','timestamp']]\n",
    "\n",
    "\n",
    "series = pd.Series(ml_df['close'])\n",
    "raw_values = series.values\n",
    "diff_values = raw_values -1\n",
    "\n",
    "\n",
    "supervised = timeseries_to_supervised(diff_values, 1)\n",
    "supervised_values = supervised.values\n",
    "\n",
    "supervised_values\n",
    "\n",
    "train_size = int(len(supervised_values) * 0.66)\n",
    "train, test = supervised_values[0:train_size], supervised_values[train_size:len(supervised_values)]\n",
    "\n",
    "# transform the scale of the data\n",
    "scaler, train_scaled, test_scaled = scale(train, test)\n",
    "train_scaled"
   ]
  },
  {
   "cell_type": "code",
   "execution_count": null,
   "metadata": {
    "collapsed": true
   },
   "outputs": [],
   "source": [
    "# repeat 30 times\n",
    "repeats = 30\n",
    "# variable for keep track of error scores\n",
    "error_scores = list()\n",
    "for r in range(repeats):\n",
    "    # let's train\n",
    "    lstm_model = fit_lstm(train, test, raw_values, scaler, 1, 30, 4)\n",
    "    predictions = list()\n",
    "    #lstm_model\n",
    "    print \"Predicted Model\"\n",
    "    # let's predict for test case\n",
    "    for i in range(len(test_scaled)):\n",
    "        # make one-step forecast\n",
    "        X, y = test_scaled[i, 0:-1], test_scaled[i, -1]\n",
    "        yhat = forecast_lstm(lstm_model, 1, X)\n",
    "        # invert scaling\n",
    "        yhat = invert_scale(scaler, X, yhat)\n",
    "        # invert differencing\n",
    "        yhat = inverse_difference(raw_values, yhat, len(test_scaled)+1-i)\n",
    "        # store forecast\n",
    "        predictions.append(yhat)\n",
    "        # report performance\n",
    "    rmse = sqrt(mean_squared_error(raw_values[train_size:len(supervised_values)], predictions))\n",
    "    print('%d) Test RMSE: %.3f' % (r+1, rmse))\n",
    "    error_scores.append(rmse)\n"
   ]
  },
  {
   "cell_type": "code",
   "execution_count": null,
   "metadata": {
    "collapsed": true
   },
   "outputs": [],
   "source": []
  }
 ],
 "metadata": {
  "kernelspec": {
   "display_name": "Python 2",
   "language": "python",
   "name": "python2"
  },
  "language_info": {
   "codemirror_mode": {
    "name": "ipython",
    "version": 2
   },
   "file_extension": ".py",
   "mimetype": "text/x-python",
   "name": "python",
   "nbconvert_exporter": "python",
   "pygments_lexer": "ipython2",
   "version": "2.7.14"
  }
 },
 "nbformat": 4,
 "nbformat_minor": 2
}
